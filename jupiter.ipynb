{
 "cells": [
  {
   "cell_type": "code",
   "execution_count": null,
   "metadata": {},
   "outputs": [],
   "source": [
    "import utils\n",
    "import read_csv\n",
    "import charts\n",
    "import pandas as pd\n"
   ]
  },
  {
   "cell_type": "code",
   "execution_count": null,
   "metadata": {},
   "outputs": [],
   "source": [
    "def run():\n",
    "  \n",
    "  #Código para generar el pie chart sin usar PANDAS\n",
    "  '''\n",
    "  data = read_csv.read_csv('data.csv')\n",
    "  data = list(filter(lambda item : item['Continent'] == 'South America',data))\n",
    "\n",
    "  countries = list(map(lambda x: x['Country'], data))\n",
    "  percentages = list(map(lambda x: x['World Population Percentage'], data))\n",
    "  charts.generate_pie_chart(countries, percentages)\n",
    "  '''\n",
    "  # #Código equivalente usando PANDAS\n",
    "  \n",
    "  # df(dataframe) \n",
    "  df = pd.read_csv(\"data.csv\")  # Nos ahorramos el método creado read_csv.py\n",
    "  df = df[df['Continent'] == 'South America']  \n",
    "  # Equivalente a -> data = list(filter(lambda item : item['Continent'] == 'South America',data))\n",
    "  countries = df['Country'].values\n",
    "  # Equivalente a -> countries = list(map(lambda x: x['Country'], data))\n",
    "  percentages = df['World Population Percentage'].values\n",
    "  # Equivalente a -> percentages = list(map(lambda x: x['World Population Percentage'], data))\n",
    "  charts.generate_pie_chart(countries, percentages)\n",
    "\n",
    "\n",
    "  data = read_csv.read_csv('data.csv')\n",
    "  country = input('Type Country => ')\n",
    "  print(country)\n",
    "\n",
    "  result = utils.population_by_country(data, country)\n",
    "\n",
    "  if len(result) > 0:\n",
    "    country = result[0]\n",
    "    print(country)\n",
    "    labels, values = utils.get_population(country)\n",
    "    charts.generate_bar_chart(country['Country'], labels, values)\n",
    "\n",
    "\n",
    "    \n",
    "if __name__ == '__main__':\n",
    "  run()"
   ]
  }
 ],
 "metadata": {
  "kernelspec": {
   "display_name": "Python 3",
   "language": "python",
   "name": "python3"
  },
  "language_info": {
   "codemirror_mode": {
    "name": "ipython",
    "version": 3
   },
   "file_extension": ".py",
   "mimetype": "text/x-python",
   "name": "python",
   "nbconvert_exporter": "python",
   "pygments_lexer": "ipython3",
   "version": "3.10.12"
  },
  "orig_nbformat": 4
 },
 "nbformat": 4,
 "nbformat_minor": 2
}
